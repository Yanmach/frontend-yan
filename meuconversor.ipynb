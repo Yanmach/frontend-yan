{
  "nbformat": 4,
  "nbformat_minor": 0,
  "metadata": {
    "colab": {
      "provenance": []
    },
    "kernelspec": {
      "name": "python3",
      "display_name": "Python 3"
    },
    "language_info": {
      "name": "python"
    }
  },
  "cells": [
    {
      "cell_type": "code",
      "execution_count": 1,
      "metadata": {
        "colab": {
          "base_uri": "https://localhost:8080/"
        },
        "id": "p8i_6onYnfYK",
        "outputId": "1c37d8a5-0367-4830-8ea7-368ec863e0f7"
      },
      "outputs": [
        {
          "output_type": "execute_result",
          "data": {
            "text/plain": [
              "9"
            ]
          },
          "metadata": {},
          "execution_count": 1
        }
      ],
      "source": [
        "2+7"
      ]
    },
    {
      "cell_type": "code",
      "source": [
        "9 -5"
      ],
      "metadata": {
        "colab": {
          "base_uri": "https://localhost:8080/"
        },
        "id": "61QKDxucojsn",
        "outputId": "04bb998a-9b0e-4584-eb47-e325c68ce20f"
      },
      "execution_count": 2,
      "outputs": [
        {
          "output_type": "execute_result",
          "data": {
            "text/plain": [
              "4"
            ]
          },
          "metadata": {},
          "execution_count": 2
        }
      ]
    },
    {
      "cell_type": "code",
      "source": [
        "9 / 3\n"
      ],
      "metadata": {
        "colab": {
          "base_uri": "https://localhost:8080/"
        },
        "id": "716g6d-joo01",
        "outputId": "bb7c9a5d-a43b-40ed-c403-fa23831f71cf"
      },
      "execution_count": 3,
      "outputs": [
        {
          "output_type": "execute_result",
          "data": {
            "text/plain": [
              "3.0"
            ]
          },
          "metadata": {},
          "execution_count": 3
        }
      ]
    },
    {
      "cell_type": "code",
      "source": [
        "9 / 2"
      ],
      "metadata": {
        "colab": {
          "base_uri": "https://localhost:8080/"
        },
        "id": "n4U3euKao1tc",
        "outputId": "2383d97d-01c4-4ea8-a9f9-203b40f8df95"
      },
      "execution_count": 4,
      "outputs": [
        {
          "output_type": "execute_result",
          "data": {
            "text/plain": [
              "4.5"
            ]
          },
          "metadata": {},
          "execution_count": 4
        }
      ]
    },
    {
      "cell_type": "code",
      "source": [
        "primeira_operacao=2258 + 6354"
      ],
      "metadata": {
        "id": "6wmAHpWap1ZQ"
      },
      "execution_count": 5,
      "outputs": []
    },
    {
      "cell_type": "code",
      "source": [
        "print(primeira_operacao)"
      ],
      "metadata": {
        "colab": {
          "base_uri": "https://localhost:8080/"
        },
        "id": "y59fQlFsqETh",
        "outputId": "583ae1e0-34c5-4296-ba64-c05db04c1677"
      },
      "execution_count": 7,
      "outputs": [
        {
          "output_type": "stream",
          "name": "stdout",
          "text": [
            "8612\n"
          ]
        }
      ]
    },
    {
      "cell_type": "code",
      "source": [
        "print(\"ola mundo\")"
      ],
      "metadata": {
        "colab": {
          "base_uri": "https://localhost:8080/"
        },
        "id": "UOPjCnlLq6vw",
        "outputId": "898f4b98-1784-4d23-cd47-fffff65da7bc"
      },
      "execution_count": 8,
      "outputs": [
        {
          "output_type": "stream",
          "name": "stdout",
          "text": [
            "ola mundo\n"
          ]
        }
      ]
    },
    {
      "cell_type": "code",
      "source": [
        "nome1=input(\"digite seu nome :\")"
      ],
      "metadata": {
        "colab": {
          "base_uri": "https://localhost:8080/"
        },
        "id": "dqWS8-W-xdye",
        "outputId": "5d6045e2-5fa9-471a-c649-90c1b2cee43e"
      },
      "execution_count": 12,
      "outputs": [
        {
          "name": "stdout",
          "output_type": "stream",
          "text": [
            "digite seu nome :yan\n"
          ]
        }
      ]
    },
    {
      "cell_type": "code",
      "source": [
        "print(nome1)"
      ],
      "metadata": {
        "colab": {
          "base_uri": "https://localhost:8080/"
        },
        "id": "xvpRiL10yHIX",
        "outputId": "9c05e51e-ecb0-4007-9e63-4dc741ff4c7b"
      },
      "execution_count": 13,
      "outputs": [
        {
          "output_type": "stream",
          "name": "stdout",
          "text": [
            "yan\n"
          ]
        }
      ]
    },
    {
      "cell_type": "code",
      "source": [
        "nome2 = input(\"digite seu nome: \")"
      ],
      "metadata": {
        "colab": {
          "base_uri": "https://localhost:8080/"
        },
        "id": "3g02eMECyKUs",
        "outputId": "6799b6e8-2f85-4021-8e1c-69c1c707e912"
      },
      "execution_count": 14,
      "outputs": [
        {
          "name": "stdout",
          "output_type": "stream",
          "text": [
            "digite seu nome: michelinha\n"
          ]
        }
      ]
    },
    {
      "cell_type": "code",
      "source": [
        "print (nome2)"
      ],
      "metadata": {
        "colab": {
          "base_uri": "https://localhost:8080/"
        },
        "id": "5fEZOQeOyWO8",
        "outputId": "7814070a-d2f3-4b9f-e5a6-033345abe384"
      },
      "execution_count": 15,
      "outputs": [
        {
          "output_type": "stream",
          "name": "stdout",
          "text": [
            "michelinha\n"
          ]
        }
      ]
    },
    {
      "cell_type": "code",
      "source": [
        "print (f\"Hoje estamos com {nome1} e {nome2} nessa live de python!\")"
      ],
      "metadata": {
        "colab": {
          "base_uri": "https://localhost:8080/"
        },
        "id": "mqRgWy34yf3Q",
        "outputId": "bb1e10f4-1255-4d3f-91f4-06aa29fd92ff"
      },
      "execution_count": 20,
      "outputs": [
        {
          "output_type": "stream",
          "name": "stdout",
          "text": [
            "Hoje estamos com yan e michelinha nessa live de python!\n"
          ]
        }
      ]
    },
    {
      "cell_type": "code",
      "source": [
        "idade1= input(\"Digite sua idade: \")"
      ],
      "metadata": {
        "colab": {
          "base_uri": "https://localhost:8080/"
        },
        "id": "fOWTBbTV0ATm",
        "outputId": "e63d9225-7c4b-44d1-d95a-649dc7c87fbd"
      },
      "execution_count": 27,
      "outputs": [
        {
          "name": "stdout",
          "output_type": "stream",
          "text": [
            "Digite sua idade: 18\n"
          ]
        }
      ]
    },
    {
      "cell_type": "code",
      "source": [
        "if int (idade1) >= 18 :\n",
        "  print (\"você é maior de idade!\")\n",
        "  print(\"voce pode entrar!\")\n",
        "if int (idade1) < 18  :\n",
        "  print (\"voce não pode entrar!\")\n",
        "  print (\"voce e menor de idade!\")\n"
      ],
      "metadata": {
        "colab": {
          "base_uri": "https://localhost:8080/"
        },
        "id": "6Pgmmwz20Nxs",
        "outputId": "02f6eacf-ca39-4967-dd6e-76905fb4edfc"
      },
      "execution_count": 28,
      "outputs": [
        {
          "output_type": "stream",
          "name": "stdout",
          "text": [
            "você é maior de idade!\n",
            "voce pode entrar!\n"
          ]
        }
      ]
    },
    {
      "cell_type": "code",
      "source": [
        "def verificar_idade(idade):\n",
        "  if int (idade) >= 18 :\n",
        "       print (\"você é maior de idade!\")\n",
        "       print (\"voce pode entrar!\")\n",
        "  else:\n",
        "       print (\"voce não pode entrar!\")\n",
        "       print (\"voce e menor de idade!\")"
      ],
      "metadata": {
        "id": "ZdRWW9DM2LY-"
      },
      "execution_count": 42,
      "outputs": []
    },
    {
      "cell_type": "code",
      "source": [
        "verificar_idade(15)"
      ],
      "metadata": {
        "colab": {
          "base_uri": "https://localhost:8080/"
        },
        "id": "hf9esBX84P8J",
        "outputId": "24aacde4-d061-42e4-d681-f348313c5f07"
      },
      "execution_count": 44,
      "outputs": [
        {
          "output_type": "stream",
          "name": "stdout",
          "text": [
            "voce não pode entrar!\n",
            "voce e menor de idade!\n"
          ]
        }
      ]
    },
    {
      "cell_type": "code",
      "source": [
        "contador = 0\n",
        "\n",
        "while contador <5:\n",
        "  print(f\"Contagem: {contador}\")\n",
        "  contador = contador + 2\n",
        "\n",
        "print (\"fim da contagem\")"
      ],
      "metadata": {
        "colab": {
          "base_uri": "https://localhost:8080/"
        },
        "id": "2FPmKu8gn7ik",
        "outputId": "b7045681-3053-43fa-ce60-823876b758fe"
      },
      "execution_count": 5,
      "outputs": [
        {
          "output_type": "stream",
          "name": "stdout",
          "text": [
            "Contagem: 0\n",
            "Contagem: 2\n",
            "Contagem: 4\n",
            "fim da contagem\n"
          ]
        }
      ]
    },
    {
      "cell_type": "code",
      "source": [
        "modelos = [\"ia flash\", \"ia flash 2.5\" , \"ia 2.5 pro\"]"
      ],
      "metadata": {
        "id": "dzHe6eLzqRgD"
      },
      "execution_count": 17,
      "outputs": []
    },
    {
      "cell_type": "code",
      "source": [
        "for modelo in modelos:\n",
        "    print(modelo)"
      ],
      "metadata": {
        "colab": {
          "base_uri": "https://localhost:8080/"
        },
        "id": "eNb6jRA-qq_B",
        "outputId": "df5ee243-73c6-42fa-9a48-9e774642c778"
      },
      "execution_count": 18,
      "outputs": [
        {
          "output_type": "stream",
          "name": "stdout",
          "text": [
            "ia flash\n",
            "ia flash 2.5\n",
            "ia 2.5 pro\n"
          ]
        }
      ]
    },
    {
      "cell_type": "code",
      "source": [
        "while True:\n",
        "    print(\"\\nBem-vindo ao Conversor de Unidades!\")\n",
        "    print(\"Escolha uma opção:\")\n",
        "    # As opções de conversão virão aqui\n",
        "    print(\"5. Sair\") # Opção para sair do loop\n",
        "\n",
        "    escolha = input(\"Digite o número da sua escolha: \")\n",
        "\n",
        "    if escolha == '5':\n",
        "        print(\"Obrigado por usar o conversor!\")\n",
        "        break # Sai do loop while\n",
        "    # As lógicas de conversão virão aqui\n",
        "    else:\n",
        "        print(\"Opção inválida. Por favor, tente novamente.\")"
      ],
      "metadata": {
        "colab": {
          "base_uri": "https://localhost:8080/"
        },
        "id": "OjpsaZhu6gVf",
        "outputId": "0327e376-0929-4d03-8deb-5b7ddd906a3b"
      },
      "execution_count": 30,
      "outputs": [
        {
          "output_type": "stream",
          "name": "stdout",
          "text": [
            "\n",
            "Bem-vindo ao Conversor de Unidades!\n",
            "Escolha uma opção:\n",
            "5. Sair\n",
            "Digite o número da sua escolha: 5\n",
            "Obrigado por usar o conversor!\n"
          ]
        }
      ]
    },
    {
      "cell_type": "code",
      "source": [
        "while True:\n",
        "    print(\"\\nBem-vindo ao Conversor de Unidades!\")\n",
        "    print(\"Escolha uma opção:\")\n",
        "    print(\"1. Celsius para Fahrenheit\")\n",
        "    print(\"2. Fahrenheit para Celsius\")\n",
        "    print(\"3. Real para Dólar (taxa fixa: 5.0)\")\n",
        "    print(\"4. Metros para Centímetros\")\n",
        "    print(\"5. Sair\")\n",
        "\n",
        "    escolha = input(\"Digite o número da sua escolha: \")\n",
        "\n",
        "    if escolha == '5':\n",
        "        print(\"Obrigado por usar o conversor!\")\n",
        "        break\n",
        "    # As lógicas de conversão virão aqui\n",
        "    elif escolha in ('1', '2', '3', '4'): # Verifica se a escolha está entre as opções válidas\n",
        "        print(\"Você escolheu a opção:\", escolha) # Feedback para o usuário\n",
        "        # Agora vamos pedir o valor a ser convertido\n",
        "    else:\n",
        "        print(\"Opção inválida. Por favor, tente novamente.\")"
      ],
      "metadata": {
        "colab": {
          "base_uri": "https://localhost:8080/"
        },
        "id": "DBfe2kQ77Zcx",
        "outputId": "87b8a218-b09a-4ff0-c28b-b492e78005c9"
      },
      "execution_count": 31,
      "outputs": [
        {
          "output_type": "stream",
          "name": "stdout",
          "text": [
            "\n",
            "Bem-vindo ao Conversor de Unidades!\n",
            "Escolha uma opção:\n",
            "1. Celsius para Fahrenheit\n",
            "2. Fahrenheit para Celsius\n",
            "3. Real para Dólar (taxa fixa: 5.0)\n",
            "4. Metros para Centímetros\n",
            "5. Sair\n",
            "Digite o número da sua escolha: 3\n",
            "Você escolheu a opção: 3\n",
            "\n",
            "Bem-vindo ao Conversor de Unidades!\n",
            "Escolha uma opção:\n",
            "1. Celsius para Fahrenheit\n",
            "2. Fahrenheit para Celsius\n",
            "3. Real para Dólar (taxa fixa: 5.0)\n",
            "4. Metros para Centímetros\n",
            "5. Sair\n",
            "Digite o número da sua escolha: 5\n",
            "Obrigado por usar o conversor!\n"
          ]
        }
      ]
    },
    {
      "cell_type": "code",
      "source": [
        "while True:\n",
        "    print(\"\\nBem-vindo ao Conversor de Unidades!\")\n",
        "    print(\"Escolha uma opção:\")\n",
        "    print(\"1. Celsius para Fahrenheit\")\n",
        "    print(\"2. Fahrenheit para Celsius\")\n",
        "    print(\"3. Real para Dólar (taxa fixa: 5.0)\")\n",
        "    print(\"4. Metros para Centímetros\")\n",
        "    print(\"5. Sair\")\n",
        "\n",
        "    escolha = input(\"Digite o número da sua escolha: \")\n",
        "\n",
        "    if escolha == '1':\n",
        "        celsius = float(input(\"Digite a temperatura em Celsius: \"))\n",
        "        fahrenheit = (celsius * 9/5) + 32\n",
        "        print(f\"{celsius}°C é igual a {fahrenheit}°F\")\n",
        "    elif escolha == '2':\n",
        "        fahrenheit = float(input(\"Digite a temperatura em Fahrenheit: \"))\n",
        "        celsius = (fahrenheit - 32) * 5/9\n",
        "        print(f\"{fahrenheit}°F é igual a {celsius}°C\")\n",
        "    elif escolha == '3':\n",
        "        real = float(input(\"Digite o valor em Real: \"))\n",
        "        dolar = real / 5.0\n",
        "        print(f\"R${real:.2f} é igual a US${dolar:.2f}\")\n",
        "    elif escolha == '4':\n",
        "        metros = float(input(\"Digite o valor em metros: \"))\n",
        "        centimetros = metros * 100\n",
        "        print(f\"{metros} metros é igual a {centimetros} centímetros\")\n",
        "    elif escolha == '5':\n",
        "        print(\"Obrigado por usar o conversor!\")\n",
        "        break\n",
        "    else:\n",
        "        print(\"Opção inválida. Por favor, tente novamente.\")"
      ],
      "metadata": {
        "colab": {
          "base_uri": "https://localhost:8080/"
        },
        "id": "lG8v-o9T7pbw",
        "outputId": "ead9160c-797a-47f8-d092-037cfd9a26d5"
      },
      "execution_count": 32,
      "outputs": [
        {
          "output_type": "stream",
          "name": "stdout",
          "text": [
            "\n",
            "Bem-vindo ao Conversor de Unidades!\n",
            "Escolha uma opção:\n",
            "1. Celsius para Fahrenheit\n",
            "2. Fahrenheit para Celsius\n",
            "3. Real para Dólar (taxa fixa: 5.0)\n",
            "4. Metros para Centímetros\n",
            "5. Sair\n",
            "Digite o número da sua escolha: 1\n",
            "Digite a temperatura em Celsius: 25\n",
            "25.0°C é igual a 77.0°F\n",
            "\n",
            "Bem-vindo ao Conversor de Unidades!\n",
            "Escolha uma opção:\n",
            "1. Celsius para Fahrenheit\n",
            "2. Fahrenheit para Celsius\n",
            "3. Real para Dólar (taxa fixa: 5.0)\n",
            "4. Metros para Centímetros\n",
            "5. Sair\n",
            "Digite o número da sua escolha: 4\n",
            "Digite o valor em metros: 45\n",
            "45.0 metros é igual a 4500.0 centímetros\n",
            "\n",
            "Bem-vindo ao Conversor de Unidades!\n",
            "Escolha uma opção:\n",
            "1. Celsius para Fahrenheit\n",
            "2. Fahrenheit para Celsius\n",
            "3. Real para Dólar (taxa fixa: 5.0)\n",
            "4. Metros para Centímetros\n",
            "5. Sair\n",
            "Digite o número da sua escolha: 5\n",
            "Obrigado por usar o conversor!\n"
          ]
        }
      ]
    }
  ]
}